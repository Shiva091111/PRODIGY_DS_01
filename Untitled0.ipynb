{
  "nbformat": 4,
  "nbformat_minor": 0,
  "metadata": {
    "colab": {
      "provenance": [],
      "authorship_tag": "ABX9TyPEZ1OrYX/D/Cbcg1IbBsk4",
      "include_colab_link": true
    },
    "kernelspec": {
      "name": "python3",
      "display_name": "Python 3"
    },
    "language_info": {
      "name": "python"
    }
  },
  "cells": [
    {
      "cell_type": "markdown",
      "metadata": {
        "id": "view-in-github",
        "colab_type": "text"
      },
      "source": [
        "<a href=\"https://colab.research.google.com/github/Shiva091111/PRODIGY_DS_01/blob/main/Untitled0.ipynb\" target=\"_parent\"><img src=\"https://colab.research.google.com/assets/colab-badge.svg\" alt=\"Open In Colab\"/></a>"
      ]
    },
    {
      "cell_type": "code",
      "execution_count": null,
      "metadata": {
        "id": "zbQCQbSGqh8x"
      },
      "outputs": [],
      "source": [
        "\n",
        "#Open In Colab\n",
        "\n",
        "import pandas as pd\n",
        "import matplotlib.pyplot as plt\n",
        "df=pd.read_csv(\"PopulationByAgeSex.csv\")\n",
        "x=df['Time']\n",
        "y=df['PopTotal_0_4']\n",
        "\n",
        "plt.figure(figsize=(10, 6))\n",
        "plt.bar(x, y, color='skyblue')\n",
        "plt.title('Histogram')\n",
        "plt.xlabel('Time')\n",
        "plt.ylabel('total population')\n",
        "plt.grid(True)\n",
        "\n",
        "plt.show()\n",
        "\n"
      ]
    }
  ]
}